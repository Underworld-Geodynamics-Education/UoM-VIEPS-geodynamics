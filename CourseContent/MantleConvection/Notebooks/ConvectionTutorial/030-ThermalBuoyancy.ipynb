{
 "cells": [
  {
   "cell_type": "markdown",
   "metadata": {
    "deletable": true,
    "editable": true
   },
   "source": [
    "## Buoyancy driven flow \n",
    "\n",
    "Here we interpret buoyancy as having come from a thermal perturbation (not scaled)\n",
    "\n",
    "**New concepts:** Different mesh types, initialising fields with numpy, a buoyancy _function_, \n"
   ]
  },
  {
   "cell_type": "code",
   "execution_count": null,
   "metadata": {
    "collapsed": true,
    "deletable": true,
    "editable": true
   },
   "outputs": [],
   "source": [
    "import underworld as uw\n",
    "from underworld import function as fn\n",
    "import glucifer\n",
    "import numpy as np"
   ]
  },
  {
   "cell_type": "code",
   "execution_count": null,
   "metadata": {
    "collapsed": true,
    "deletable": true,
    "editable": true
   },
   "outputs": [],
   "source": [
    "res = 32\n",
    "boxHeight = 1.0\n",
    "aspect_ratio = 1.0"
   ]
  },
  {
   "cell_type": "code",
   "execution_count": null,
   "metadata": {
    "collapsed": false,
    "deletable": true,
    "editable": true
   },
   "outputs": [],
   "source": [
    "# A mesh to solve velocity and pressure\n",
    "\n",
    "VPmesh = uw.mesh.FeMesh_Cartesian( elementType = (\"Q2/dPc1\"), \n",
    "                                   elementRes  = (int(res * aspect_ratio), res), \n",
    "                                   minCoord    = (0., 0.), \n",
    "                                   maxCoord    = (boxHeight*aspect_ratio, boxHeight))\n",
    "\n",
    "Tmesh = uw.mesh.FeMesh_Cartesian( elementType = (\"Q2\"), \n",
    "                                   elementRes  = (int(res * aspect_ratio), res), \n",
    "                                   minCoord    = (0., 0.), \n",
    "                                   maxCoord    = (boxHeight*aspect_ratio, boxHeight))\n",
    "\n",
    "velocityField    = uw.mesh.MeshVariable( mesh=VPmesh,         nodeDofCount=2 ) # vector\n",
    "pressureField    = uw.mesh.MeshVariable( mesh=VPmesh.subMesh, nodeDofCount=1 ) # scalar\n",
    "temperatureField = uw.mesh.MeshVariable( mesh=Tmesh,          nodeDofCount=1 ) # scalar\n",
    "\n",
    "velocityField.data[:,:] = 0.0\n",
    "pressureField.data[:] = 0.0\n",
    "temperatureField.data[:,0] = np.cos( Tmesh.data[:,0] * np.pi ) * np.sin( Tmesh.data[:,1] * np.pi )\n",
    "# NOTE the 0 (try it without !)"
   ]
  },
  {
   "cell_type": "code",
   "execution_count": null,
   "metadata": {
    "collapsed": true,
    "deletable": true,
    "editable": true
   },
   "outputs": [],
   "source": [
    "# Boundary conditions - free slip everywhere\n",
    "\n",
    "vxWalls = VPmesh.specialSets[\"MinI_VertexSet\"] + \\\n",
    "          VPmesh.specialSets[\"MaxI_VertexSet\"] \n",
    "\n",
    "vyWalls = VPmesh.specialSets[\"MinJ_VertexSet\"] + \\\n",
    "          VPmesh.specialSets[\"MaxJ_VertexSet\"]\n",
    "\n",
    "velocityBC = uw.conditions.DirichletCondition( variable = velocityField, \n",
    "                                               indexSetsPerDof = (vxWalls, vyWalls) )"
   ]
  },
  {
   "cell_type": "code",
   "execution_count": null,
   "metadata": {
    "collapsed": false,
    "deletable": true,
    "editable": true
   },
   "outputs": [],
   "source": [
    "## Need a buoyancy function in the Stokes' solver\n",
    "\n",
    "thermal_buoyancy = temperatureField * (0.0, 1.0)\n",
    " \n",
    "stokesPIC = uw.systems.Stokes( velocityField  = velocityField, \n",
    "                               pressureField  = pressureField,\n",
    "                               conditions     = [velocityBC,],\n",
    "                               fn_viscosity   = 1.0, \n",
    "                               fn_bodyforce   = thermal_buoyancy )\n",
    "\n",
    "\n",
    "solver = uw.systems.Solver( stokesPIC )\n",
    "\n",
    "solver.solve()"
   ]
  },
  {
   "cell_type": "code",
   "execution_count": null,
   "metadata": {
    "collapsed": false,
    "deletable": true,
    "editable": true
   },
   "outputs": [],
   "source": [
    "fig2 = glucifer.Figure()\n",
    "fig2.append( glucifer.objects.VectorArrows( VPmesh, velocityField, arrowHead=0.35, scaling=3.0 ) )\n",
    "fig2.append( glucifer.objects.Surface( VPmesh, temperatureField ) )\n",
    "fig2.show()"
   ]
  },
  {
   "cell_type": "markdown",
   "metadata": {
    "collapsed": true,
    "deletable": true,
    "editable": true
   },
   "source": [
    "## Things to try\n",
    "\n",
    "\n",
    "Does the temperature mesh have to be the same element type / resolution as the velocity mesh ?\n",
    "\n",
    "(If you try this in parallel, you might come to a different conclusion !)\n"
   ]
  },
  {
   "cell_type": "code",
   "execution_count": null,
   "metadata": {
    "collapsed": true,
    "deletable": true,
    "editable": true
   },
   "outputs": [],
   "source": []
  }
 ],
 "metadata": {
  "kernelspec": {
   "display_name": "Python 2",
   "language": "python",
   "name": "python2"
  },
  "language_info": {
   "codemirror_mode": {
    "name": "ipython",
    "version": 2
   },
   "file_extension": ".py",
   "mimetype": "text/x-python",
   "name": "python",
   "nbconvert_exporter": "python",
   "pygments_lexer": "ipython2",
   "version": "2.7.13"
  }
 },
 "nbformat": 4,
 "nbformat_minor": 0
}
