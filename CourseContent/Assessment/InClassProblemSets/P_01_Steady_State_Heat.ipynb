{
 "cells": [
  {
   "cell_type": "markdown",
   "metadata": {},
   "source": [
    "Steady state heat equation\n",
    "======\n",
    "\n",
    "This notebook will setup and solve the steady state heat equation. \n",
    "\n",
    "The heat equation is given by\n",
    "\n",
    "\\\\[\n",
    "\\nabla(k\\nabla)T = h\n",
    "\\\\]\n",
    "\n",
    "where $k$ is the diffusivity, T the temperature field and $h$ the source term (see [here](https://en.wikipedia.org/wiki/Heat_equation) for more information).\n",
    "\n",
    "**This example involves:**\n",
    "1. Setting up the mesh\n",
    "2. Creating boundary conditions\n",
    "3. Solving the heat equation\n",
    "4. Plotting with glucifer\n",
    "\n",
    "**Problems cover**\n",
    "1. Modifying simulation spaces from 2D to 3D\n",
    "2. Setting boundary conditions\n",
    "3. Errors in boundary conditions\n",
    "\n",
    "**Keywords:** initial conditions, boundary conditions, heat equation"
   ]
  },
  {
   "cell_type": "code",
   "execution_count": 1,
   "metadata": {
    "collapsed": false
   },
   "outputs": [],
   "source": [
    "import underworld as uw\n",
    "from underworld import function as fn\n",
    "import glucifer"
   ]
  },
  {
   "cell_type": "markdown",
   "metadata": {},
   "source": [
    "Setup parameters\n",
    "-----"
   ]
  },
  {
   "cell_type": "code",
   "execution_count": 2,
   "metadata": {
    "collapsed": false
   },
   "outputs": [],
   "source": [
    "# Set number of dimensions.\n",
    "dim = 2\n",
    "# Set box size.\n",
    "boxHeight = 1.0\n",
    "boxLength = 2.0\n",
    "# Set the resolution.\n",
    "resx = 16\n",
    "resy = 8"
   ]
  },
  {
   "cell_type": "markdown",
   "metadata": {},
   "source": [
    "Create mesh and variables\n",
    "------"
   ]
  },
  {
   "cell_type": "code",
   "execution_count": 3,
   "metadata": {
    "collapsed": false
   },
   "outputs": [],
   "source": [
    "mesh = uw.mesh.FeMesh_Cartesian( elementType = (\"Q1/dQ0\"), \n",
    "                                 elementRes  = (resx, resy), \n",
    "                                 minCoord    = (0., 0.), \n",
    "                                 maxCoord    = (boxLength, boxHeight))"
   ]
  },
  {
   "cell_type": "code",
   "execution_count": 4,
   "metadata": {
    "collapsed": false
   },
   "outputs": [
    {
     "data": {
      "text/html": [
       "<img src='data:image/png;base64,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'>"
      ],
      "text/plain": [
       "<IPython.core.display.HTML object>"
      ]
     },
     "execution_count": 4,
     "metadata": {},
     "output_type": "execute_result"
    }
   ],
   "source": [
    "# gLucifer visualisation of mesh\n",
    "fig = glucifer.Figure( figsize=(800,400) )\n",
    "fig.append(glucifer.objects.Mesh( mesh ))\n",
    "fig.show()"
   ]
  },
  {
   "cell_type": "markdown",
   "metadata": {},
   "source": [
    "Create mesh variables for the temperature field & initialise. "
   ]
  },
  {
   "cell_type": "code",
   "execution_count": 5,
   "metadata": {
    "collapsed": false
   },
   "outputs": [],
   "source": [
    "temperatureField = uw.mesh.MeshVariable( mesh=mesh, nodeDofCount=1 )\n",
    "temperatureField.data[:] = 0."
   ]
  },
  {
   "cell_type": "markdown",
   "metadata": {},
   "source": [
    "Create boundary conditions\n",
    "----------"
   ]
  },
  {
   "cell_type": "markdown",
   "metadata": {},
   "source": [
    "Determine which vertices will be flagged as boundary conditions on the system using special sets."
   ]
  },
  {
   "cell_type": "code",
   "execution_count": 6,
   "metadata": {
    "collapsed": false
   },
   "outputs": [
    {
     "data": {
      "text/plain": [
       "['MaxI_VertexSet',\n",
       " 'MinI_VertexSet',\n",
       " 'AllWalls_VertexSet',\n",
       " 'MinJ_VertexSet',\n",
       " 'MaxJ_VertexSet',\n",
       " 'Empty']"
      ]
     },
     "execution_count": 6,
     "metadata": {},
     "output_type": "execute_result"
    }
   ],
   "source": [
    "mesh.specialSets.keys()"
   ]
  },
  {
   "cell_type": "markdown",
   "metadata": {},
   "source": [
    "The vertices along the bottom wall is given by  'MinJ_VertexSet', the top wall given by the 'MaxJ_VertexSet'."
   ]
  },
  {
   "cell_type": "markdown",
   "metadata": {},
   "source": [
    "Construct sets for the horizontal walls."
   ]
  },
  {
   "cell_type": "code",
   "execution_count": 7,
   "metadata": {
    "collapsed": false
   },
   "outputs": [],
   "source": [
    "jWalls = mesh.specialSets[\"MinJ_VertexSet\"] + mesh.specialSets[\"MaxJ_VertexSet\"]"
   ]
  },
  {
   "cell_type": "markdown",
   "metadata": {},
   "source": [
    "Create Direchlet, or fixed value, boundary conditions for the jWalls and provide values."
   ]
  },
  {
   "cell_type": "code",
   "execution_count": 8,
   "metadata": {
    "collapsed": true
   },
   "outputs": [],
   "source": [
    "tempBC = uw.conditions.DirichletCondition( variable=temperatureField, indexSetsPerDof=(jWalls,) )"
   ]
  },
  {
   "cell_type": "code",
   "execution_count": 9,
   "metadata": {
    "collapsed": false
   },
   "outputs": [],
   "source": [
    "# set bottom wall temperature bc\n",
    "for index in mesh.specialSets[\"MinJ_VertexSet\"]:\n",
    "    temperatureField.data[index] = 1.0\n",
    "# set top wall temperature bc\n",
    "for index in mesh.specialSets[\"MaxJ_VertexSet\"]:\n",
    "    temperatureField.data[index] = 0.0"
   ]
  },
  {
   "cell_type": "code",
   "execution_count": 10,
   "metadata": {
    "collapsed": false,
    "scrolled": false
   },
   "outputs": [
    {
     "data": {
      "text/html": [
       "<img src='data:image/png;base64,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'>"
      ],
      "text/plain": [
       "<IPython.core.display.HTML object>"
      ]
     },
     "execution_count": 10,
     "metadata": {},
     "output_type": "execute_result"
    }
   ],
   "source": [
    "# gLucifer visualisation of temperature field & mesh\n",
    "fig.append( glucifer.objects.Surface( mesh, temperatureField, colours=\"blue white red\" ) )\n",
    "fig.show()"
   ]
  },
  {
   "cell_type": "markdown",
   "metadata": {},
   "source": [
    "Heat Equation System setup & solve\n",
    "-----\n",
    "\n",
    "Temperature field, diffusivity and boundary conditions are passed to the SteadyStateHeat system function."
   ]
  },
  {
   "cell_type": "code",
   "execution_count": 11,
   "metadata": {
    "collapsed": false
   },
   "outputs": [],
   "source": [
    "heatequation = uw.systems.SteadyStateHeat(temperatureField=temperatureField, fn_diffusivity=1.0, conditions=[tempBC,])"
   ]
  },
  {
   "cell_type": "markdown",
   "metadata": {},
   "source": [
    "Solve the heat equation."
   ]
  },
  {
   "cell_type": "code",
   "execution_count": 12,
   "metadata": {
    "collapsed": false
   },
   "outputs": [],
   "source": [
    "# get the default heat equation solver\n",
    "heatsolver = uw.systems.Solver(heatequation)\n",
    "# solve\n",
    "heatsolver.solve()"
   ]
  },
  {
   "cell_type": "code",
   "execution_count": 13,
   "metadata": {
    "collapsed": false
   },
   "outputs": [
    {
     "data": {
      "text/html": [
       "<img src='data:image/png;base64,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'>"
      ],
      "text/plain": [
       "<IPython.core.display.HTML object>"
      ]
     },
     "execution_count": 13,
     "metadata": {},
     "output_type": "execute_result"
    }
   ],
   "source": [
    "# gLucifer visualisation of temperature field & mesh\n",
    "fig.show()"
   ]
  },
  {
   "cell_type": "markdown",
   "metadata": {
    "collapsed": true
   },
   "source": [
    "Problems\n",
    "----\n",
    "\n",
    "**Problem 1:** Make a 3D version of this with a single wall set to $T = 1$ and the others set to $T = 0$.\n",
    "\n",
    "To get you started we will firstly create a 3D mesh."
   ]
  },
  {
   "cell_type": "code",
   "execution_count": 14,
   "metadata": {
    "collapsed": true
   },
   "outputs": [],
   "source": [
    "mesh = uw.mesh.FeMesh_Cartesian( elementType = (\"Q1/dQ0\"), \n",
    "                                 elementRes  = (resx, resy, resy), \n",
    "                                 minCoord    = (0., 0., 0.), \n",
    "                                 maxCoord    = (boxLength, boxHeight, boxHeight))"
   ]
  },
  {
   "cell_type": "markdown",
   "metadata": {},
   "source": [
    "Now we create a mesh variable (Temperature) which will exist on the new 3D mesh."
   ]
  },
  {
   "cell_type": "code",
   "execution_count": null,
   "metadata": {
    "collapsed": true
   },
   "outputs": [],
   "source": [
    "temperatureField = uw.mesh.MeshVariable( mesh=mesh, nodeDofCount=1 )\n",
    "temperatureField.data[:] = 0."
   ]
  },
  {
   "cell_type": "markdown",
   "metadata": {},
   "source": [
    "Now you'll need to setup the boundary conditions..."
   ]
  },
  {
   "cell_type": "code",
   "execution_count": null,
   "metadata": {
    "collapsed": true
   },
   "outputs": [],
   "source": []
  },
  {
   "cell_type": "markdown",
   "metadata": {},
   "source": [
    "then set up the heat equation system and solve it..."
   ]
  },
  {
   "cell_type": "code",
   "execution_count": null,
   "metadata": {
    "collapsed": true
   },
   "outputs": [],
   "source": []
  },
  {
   "cell_type": "markdown",
   "metadata": {},
   "source": [
    "Plot to see if the results are as you expect them to be."
   ]
  },
  {
   "cell_type": "code",
   "execution_count": null,
   "metadata": {
    "collapsed": false
   },
   "outputs": [],
   "source": []
  },
  {
   "cell_type": "markdown",
   "metadata": {},
   "source": [
    "**Problem 2:** In a 2D space, set the boundaries to all be $T = 0$ and set a single point inside the box to be $T=1$.\n"
   ]
  },
  {
   "cell_type": "markdown",
   "metadata": {},
   "source": [
    "First you'll need to setup a 2D mesh and temperature field along with the initial conditions for the temperature field."
   ]
  },
  {
   "cell_type": "code",
   "execution_count": null,
   "metadata": {
    "collapsed": false
   },
   "outputs": [],
   "source": []
  },
  {
   "cell_type": "markdown",
   "metadata": {},
   "source": [
    "The following code will apply Dirichlet boundary conditions to all walls AND to a single vertex with number ``index``."
   ]
  },
  {
   "cell_type": "code",
   "execution_count": 21,
   "metadata": {
    "collapsed": true
   },
   "outputs": [],
   "source": [
    "allWalls = mesh.specialSets[\"AllWalls_VertexSet\"]\n",
    "allFixed = mesh.specialSets[\"Empty\"]\n",
    "allFixed.add(index)\n",
    "tempBC = uw.conditions.DirichletCondition( variable=temperatureField, indexSetsPerDof=(allWalls+allFixed, ) )"
   ]
  },
  {
   "cell_type": "markdown",
   "metadata": {},
   "source": [
    "Next setup the heat equation system, solve and plot the resulting temperature field."
   ]
  },
  {
   "cell_type": "code",
   "execution_count": null,
   "metadata": {
    "collapsed": true
   },
   "outputs": [],
   "source": []
  },
  {
   "cell_type": "markdown",
   "metadata": {},
   "source": [
    "**Problem 3:** What happens if you forget to add the index to the boundary condition index list?"
   ]
  },
  {
   "cell_type": "code",
   "execution_count": null,
   "metadata": {
    "collapsed": true
   },
   "outputs": [],
   "source": []
  }
 ],
 "metadata": {
  "kernelspec": {
   "display_name": "Python 2",
   "language": "python",
   "name": "python2"
  },
  "language_info": {
   "codemirror_mode": {
    "name": "ipython",
    "version": 2
   },
   "file_extension": ".py",
   "mimetype": "text/x-python",
   "name": "python",
   "nbconvert_exporter": "python",
   "pygments_lexer": "ipython2",
   "version": "2.7.6"
  }
 },
 "nbformat": 4,
 "nbformat_minor": 0
}
