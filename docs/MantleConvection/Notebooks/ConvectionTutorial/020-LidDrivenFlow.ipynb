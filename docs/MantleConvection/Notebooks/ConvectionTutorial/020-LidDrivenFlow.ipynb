{
 "cells": [
  {
   "cell_type": "markdown",
   "metadata": {},
   "source": [
    "## Lid Driven Flow\n",
    "\n",
    "Boundary conditions produce flow (everywhere)\n",
    "\n",
    "**New concepts:** Meshes, Variables, Boundary conditions, Equation templates, Solvers, Plotting "
   ]
  },
  {
   "cell_type": "code",
   "execution_count": 1,
   "metadata": {
    "collapsed": true
   },
   "outputs": [],
   "source": [
    "import underworld as uw\n",
    "from underworld import function as fn\n",
    "import glucifer\n",
    "import numpy as np\n",
    "\n"
   ]
  },
  {
   "cell_type": "code",
   "execution_count": 2,
   "metadata": {
    "collapsed": true
   },
   "outputs": [],
   "source": [
    "res = 32\n",
    "boxHeight = 1.0\n",
    "aspect_ratio = 0.5"
   ]
  },
  {
   "cell_type": "code",
   "execution_count": 3,
   "metadata": {
    "collapsed": false
   },
   "outputs": [],
   "source": [
    "# A mesh to solve velocity and pressure\n",
    "\n",
    "VPmesh = uw.mesh.FeMesh_Cartesian( elementType = (\"Q2/dPc1\"), \n",
    "                                   elementRes  = (int(res * aspect_ratio), res), \n",
    "                                   minCoord    = (0., 0.), \n",
    "                                   maxCoord    = (boxHeight*aspect_ratio, boxHeight))\n",
    "\n",
    "velocityField    = uw.mesh.MeshVariable( mesh=VPmesh,         nodeDofCount=2 )\n",
    "pressureField    = uw.mesh.MeshVariable( mesh=VPmesh.subMesh, nodeDofCount=1 )\n",
    "\n",
    "velocityField.data[:,:] = 0.0\n",
    "pressureField.data[:] = 0.0\n"
   ]
  },
  {
   "cell_type": "code",
   "execution_count": 4,
   "metadata": {
    "collapsed": false
   },
   "outputs": [],
   "source": [
    "# Boundary conditions - specify:\n",
    "# Vx on side walls (0) and Vx on top (1)\n",
    "# Vy on top / bottom (0)\n",
    "\n",
    "vxWalls = VPmesh.specialSets[\"MinI_VertexSet\"] + \\\n",
    "          VPmesh.specialSets[\"MaxI_VertexSet\"] + \\\n",
    "          VPmesh.specialSets[\"MaxJ_VertexSet\"]\n",
    "\n",
    "vyWalls = VPmesh.specialSets[\"MinJ_VertexSet\"] + \\\n",
    "          VPmesh.specialSets[\"MaxJ_VertexSet\"]\n",
    "\n",
    "# We only need to specify the non-zero value of the driving terms because we zeroed everything previously\n",
    "\n",
    "for index in VPmesh.specialSets[\"MaxJ_VertexSet\"]:\n",
    "    velocityField.data[index,0] = 1.0\n",
    "\n",
    "    \n",
    "# Now register that information\n",
    "\n",
    "velocityBC = uw.conditions.DirichletCondition( variable = velocityField, \n",
    "                                               indexSetsPerDof = (vxWalls, vyWalls) )\n",
    "\n",
    "    "
   ]
  },
  {
   "cell_type": "code",
   "execution_count": 5,
   "metadata": {
    "collapsed": true
   },
   "outputs": [],
   "source": [
    "# The equations are templated already \n",
    "\n",
    "stokesPIC = uw.systems.Stokes( velocityField  = velocityField, \n",
    "                               pressureField  = pressureField,\n",
    "                               conditions     = [velocityBC,],\n",
    "                               fn_viscosity   = 1.0, \n",
    "                               fn_bodyforce   = (0.0,0.0) )\n",
    "\n",
    "# And a suitable solver package is already attached to it\n",
    "\n",
    "solver = uw.systems.Solver( stokesPIC )"
   ]
  },
  {
   "cell_type": "code",
   "execution_count": 6,
   "metadata": {
    "collapsed": true
   },
   "outputs": [],
   "source": [
    "solver.solve()"
   ]
  },
  {
   "cell_type": "code",
   "execution_count": 7,
   "metadata": {
    "collapsed": false
   },
   "outputs": [
    {
     "data": {
      "text/html": [
       "<img src='data:image/png;base64,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'>"
      ],
      "text/plain": [
       "<IPython.core.display.HTML object>"
      ]
     },
     "metadata": {},
     "output_type": "display_data"
    }
   ],
   "source": [
    "fig2 = glucifer.Figure()\n",
    "fig2.append( glucifer.objects.VectorArrows( VPmesh, velocityField, arrowHead=0.2, scaling=0.1 ) )\n",
    "fig2.append( glucifer.objects.Surface( VPmesh, pressureField ) )\n",
    "fig2.show()"
   ]
  },
  {
   "cell_type": "code",
   "execution_count": 8,
   "metadata": {
    "collapsed": false
   },
   "outputs": [
    {
     "name": "stdout",
     "output_type": "stream",
     "text": [
      "Drawing Class Help: \n",
      "================= \n",
      "\n",
      "\n",
      "    This is the base class for all drawing objects but can also be instantiated \n",
      "    as is for direct/custom drawing.\n",
      "    \n",
      "    Note that the defaults here are often overridden by the child objects. Please\n",
      "    inspect child constructor (__init__) itself to determine exact default settings.\n",
      "    \n",
      "    Parameters\n",
      "    ----------\n",
      "    colours: str, list.\n",
      "        See ColourMap class docstring for further information\n",
      "    colourMap: ColourMap. default=None\n",
      "        A ColourMap object for the object to use.\n",
      "        This should not be specified if 'colours' is specified.\n",
      "    properties: str.  default=None\n",
      "        Extra properties to apply to the drawing object.\n",
      "    opacity: float. default=None.\n",
      "        Opacity of object. If provided, must take values from 0. to 1. \n",
      "    colourBar: bool. default=False\n",
      "        Bool to determine if a colour bar should be rendered.\n",
      "    valueRange: tuple,list. default=None.\n",
      "        See ColourMap class docstring for further information\n",
      "    logScale: bool. default=False.\n",
      "        See ColourMap class docstring for further information\n",
      "    discrete: bool.  default=False.\n",
      "        See ColourMap class docstring for further information\n",
      "\n",
      "        \n",
      "    \n",
      "ColorMap Help: \n",
      "================= \n",
      "\n",
      "\n",
      "    The ColourMap class provides functionality for mapping colours to numerical\n",
      "    values.\n",
      "    \n",
      "    Parameters\n",
      "    ----------\n",
      "    colours: str, list.  default=\"#288FD0 #50B6B8 #989878 #C68838 #FF7520\"\n",
      "        List of colours to use for drawing object colour map. Provided as a string\n",
      "        or as a list of strings. Example, \"red blue\", or [\"red\", \"blue\"]\n",
      "        This should not be specified if 'colourMap' is specified.\n",
      "    valueRange: tuple,list. default=None.\n",
      "        User defined value range to apply to colour map. Provided as a \n",
      "        tuple of floats  (minValue, maxValue). If none is provided, the\n",
      "        value range will be determined automatically.\n",
      "    logScale: bool. default=False.\n",
      "        Bool to determine if the colourMap should use a logarithmic scale.\n",
      "    discrete: bool.  default=False.\n",
      "        Bool to determine if a discrete colour map should be used.\n",
      "        Discrete colour maps do not interpolate between colours and instead\n",
      "        use nearest neighbour for colouring.\n",
      "\n",
      "    \n",
      "The names for default colourmaps are in glucifer.objects.colourMaps\n",
      "['cubelaw2', 'smoothheat', 'rainbow', 'isolum', 'cubelaw', 'diverge']\n",
      "\n",
      "\n",
      "VectorArrows Help: \n",
      "================= \n",
      "\n",
      "  \n",
      "    This drawing object class draws vector arrows corresponding to the provided vector field.\n",
      "\n",
      "    See parent class for further parameter details. Also see property docstrings.\n",
      "    \n",
      "    Parameters\n",
      "    ---------\n",
      "    mesh : uw.mesh.Mesh\n",
      "        Mesh over which vector arrows are rendered.\n",
      "    fn : uw.function.Function\n",
      "        Function used to determine vectors to render. \n",
      "        Function should return a vector of floats/doubles of appropriate\n",
      "        dimensionality.\n",
      "    arrowHead : float\n",
      "         The size of the head of the arrow compared with the arrow length.\n",
      "         Must be in [0.,1.].\n",
      "    scaling : float\n",
      "        Scaling for entire arrow.\n",
      "    glyphs : int\n",
      "        Type of glyph to render for vector arrow.\n",
      "        0: Line, 1 or more: 3d arrow, higher number => better quality.\n",
      "    resolutionI : unsigned, default=16.\n",
      "        Number of samples in the I direction.\n",
      "    resolutionJ : unsigned, default=16.\n",
      "        Number of samples in the J direction.\n",
      "    resolutionK : unsigned, default=16.\n",
      "        Number of samples in the K direction.\n",
      "\n",
      "    \n",
      "Points Help: \n",
      "================= \n",
      "\n",
      "  \n",
      "    This drawing object class draws a swarm of points.\n",
      "    \n",
      "    See parent class for further parameter details. Also see property docstrings.\n",
      "    \n",
      "    Parameters\n",
      "    ---------\n",
      "    swarm : uw.swarm.Swarm\n",
      "        Swarm which provides locations for point rendering.\n",
      "    fn_colour : uw.function.Function\n",
      "        Function used to determine colour to render particle.\n",
      "        This function should return float/double values.\n",
      "    fn_mask : uw.function.Function\n",
      "        Function used to determine if a particle should be rendered. \n",
      "        This function should return bool values. \n",
      "    fn_size : uw.function.Function\n",
      "        Function used to determine size to render particle.\n",
      "        This function should return float/double values.\n",
      "        \n",
      "\n",
      "    \n",
      "Volume Help: \n",
      "================= \n",
      "\n",
      "  \n",
      "    This drawing object class draws a volume using the provided scalar field.\n",
      "    \n",
      "    See parent class for further parameter details. Also see property docstrings.\n",
      "    \n",
      "    Parameters\n",
      "    ---------\n",
      "    mesh : uw.mesh.Mesh\n",
      "        Mesh over which object is rendered.\n",
      "    fn : uw.function.Function\n",
      "        Function used to determine colour values.\n",
      "        Function should return a vector of floats/doubles of appropriate\n",
      "        dimensionality.\n",
      "    resolutionI : unsigned, default=16.\n",
      "        Number of samples in the I direction.\n",
      "    resolutionJ : unsigned, default=16.\n",
      "        Number of samples in the J direction.\n",
      "    resolutionK : unsigned, default=16.\n",
      "        Number of samples in the K direction.\n",
      "\n",
      "    \n"
     ]
    }
   ],
   "source": [
    "## Using the help. \n",
    "\n",
    "## the Drawing object is the parent class for Points, Mesh, VectorArrows\n",
    "\n",
    "print \"Drawing Class Help: \\n================= \\n\\n\", \n",
    "print uw.help(glucifer.objects.Drawing, toScreen=False)\n",
    "\n",
    "## \n",
    "\n",
    "print \"ColorMap Help: \\n================= \\n\\n\", \n",
    "print uw.help(glucifer.objects.ColourMap, toScreen=False)\n",
    "\n",
    "print \"The names for default colourmaps are in glucifer.objects.colourMaps\"\n",
    "print glucifer.objects.colourMaps.keys()\n",
    "print \"\\n\"\n",
    "\n",
    "\n",
    "print \"VectorArrows Help: \\n================= \\n\\n\", \n",
    "print uw.help(glucifer.objects.VectorArrows, toScreen=False)\n",
    "\n",
    "\n",
    "print \"Points Help: \\n================= \\n\\n\", \n",
    "print uw.help(glucifer.objects.Points, toScreen=False)\n",
    "\n",
    "\n",
    "print \"Volume Help: \\n================= \\n\\n\", \n",
    "print uw.help(glucifer.objects.Volume, toScreen=False)\n",
    "\n",
    "\n"
   ]
  }
 ],
 "metadata": {
  "kernelspec": {
   "display_name": "Python 2",
   "language": "python",
   "name": "python2"
  },
  "language_info": {
   "codemirror_mode": {
    "name": "ipython",
    "version": 2
   },
   "file_extension": ".py",
   "mimetype": "text/x-python",
   "name": "python",
   "nbconvert_exporter": "python",
   "pygments_lexer": "ipython2",
   "version": "2.7.11"
  }
 },
 "nbformat": 4,
 "nbformat_minor": 0
}
