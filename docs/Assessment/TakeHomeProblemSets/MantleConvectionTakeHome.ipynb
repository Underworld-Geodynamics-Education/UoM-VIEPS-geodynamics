{
 "cells": [
  {
   "cell_type": "markdown",
   "metadata": {},
   "source": [
    "## Mantle Convection Assignment\n",
    "\n",
    "This take home assessment exercise builds upon the in-class work we have done on _Rayleigh-Bénard_ convection (convection in a layer of fluid heated from below and cooled from above).\n",
    "\n",
    "We have seen how boundary layer **theory** can predict the thickness of the thermal boundary layer (and therefore the heat-transport efficiency), and average velocity from the Rayleigh number alone.\n",
    "\n",
    "This theory predicts that the relationships will have the form:\n",
    "\n",
    "\\begin{equation}\n",
    "    \\mathrm{Nu} = a \\mathrm{Ra}^{\\alpha}\n",
    "\\end{equation}\n",
    "\n",
    "and\n",
    "\n",
    "\\begin{equation}\n",
    "    \\mathrm{V}_\\mathrm{rms} = b \\mathrm{Ra}^{\\beta}\n",
    "\\end{equation}\n",
    "\n",
    "The [`underworld`](http://www.underworldcode.org) models we developed in class can be used to determine the values of the constants $\\alpha, \\beta$ (and $a,b$ )numerically to see if they agree with the predictions of the theory. For example, here is a graph of some of the simulations I showed in the lectures which demonstrates how to get these values.\n",
    "\n",
    "\n",
    "<img src=\"./RaNuVave.png\" width=50%>\n",
    "\n",
    "<!-- ![Sample graph](RaNuVave.png) -->"
   ]
  },
  {
   "cell_type": "code",
   "execution_count": null,
   "metadata": {
    "collapsed": true
   },
   "outputs": [],
   "source": []
  }
 ],
 "metadata": {
  "kernelspec": {
   "display_name": "Python 2",
   "language": "python",
   "name": "python2"
  },
  "language_info": {
   "codemirror_mode": {
    "name": "ipython",
    "version": 2
   },
   "file_extension": ".py",
   "mimetype": "text/x-python",
   "name": "python",
   "nbconvert_exporter": "python",
   "pygments_lexer": "ipython2",
   "version": "2.7.11"
  }
 },
 "nbformat": 4,
 "nbformat_minor": 0
}
