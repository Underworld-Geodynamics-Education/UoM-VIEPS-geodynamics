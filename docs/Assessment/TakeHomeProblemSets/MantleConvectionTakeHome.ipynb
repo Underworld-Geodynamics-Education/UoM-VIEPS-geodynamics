{
 "cells": [
  {
   "cell_type": "markdown",
   "metadata": {},
   "source": [
    "## Mantle Convection Assignment\n",
    "\n",
    "This take home assessment exercise builds upon the in-class work we have done on _Rayleigh-Bénard_ convection (convection in a layer of fluid heated from below and cooled from above).\n",
    "\n",
    "We have seen how boundary layer **theory** can predict the thickness of the thermal boundary layer (and therefore the heat-transport efficiency), and average velocity from the Rayleigh number alone.\n",
    "\n",
    "This theory predicts that the relationships will have the form:\n",
    "\n",
    "\\begin{equation}\n",
    "    \\mathrm{Nu} = a \\mathrm{Ra}^{\\alpha}\n",
    "\\end{equation}\n",
    "\n",
    "and\n",
    "\n",
    "\\begin{equation}\n",
    "    {V}_\\mathrm{rms} = b \\mathrm{Ra}^{\\beta}\n",
    "\\end{equation}\n",
    "\n",
    "The [`underworld`](http://www.underworldcode.org) models we developed in class can be used to determine the values of the constants $\\alpha, \\beta$ (and $a,b$ )numerically to see if they agree with the predictions of the theory. For example, here is a graph of some of the simulations I showed in the lectures which demonstrates how to get these values.\n",
    "\n",
    "\n",
    "<img src=\"./RaNuVave.png\" width=50%>\n",
    "\n",
    "\n",
    "**I would like you to reproduce (and improve) on this graph using results you compute for yourself with underworld**\n",
    "\n",
    "\n",
    "You can save the data ($Nu \\rightarrow t$ and $V_\\mathrm{rms} \\rightarrow t$) from each run - I don't need to see all of the notebooks - and use that to plot your graph. You might like to include some examples of these data in the experimental write-up section below."
   ]
  },
  {
   "cell_type": "code",
   "execution_count": null,
   "metadata": {
    "collapsed": true
   },
   "outputs": [],
   "source": [
    "## Graph of Nu v. Ra \n",
    "\n",
    "# Your code can go here "
   ]
  },
  {
   "cell_type": "code",
   "execution_count": null,
   "metadata": {
    "collapsed": true
   },
   "outputs": [],
   "source": [
    "## Graph of Vrms v. Ra\n",
    "\n",
    "# Your code can go here\n",
    "\n"
   ]
  },
  {
   "cell_type": "markdown",
   "metadata": {
    "collapsed": true
   },
   "source": [
    "## Discussion\n",
    "\n",
    "\n",
    "\n",
    "1) Briefly write up the experimental method that you use to obtain your graphs and explain how the _\"experimental\"_ errors arise when doing these kinds of numerical computations. Talk about the trade off between speed and accuracy, the steps you took to make sure that your results are valid (e.g. how do you know the model has reached steady state, what do you do if it doesn't reach steady state, does resolution influence steady state or not). \n",
    "\n",
    "2) In around 500 words, summarise how we can thermal boundary layers relate to the oceanic lithosphere and how we use this information to understand the observations of the sea floor age / depth."
   ]
  },
  {
   "cell_type": "code",
   "execution_count": null,
   "metadata": {
    "collapsed": true
   },
   "outputs": [],
   "source": []
  }
 ],
 "metadata": {
  "kernelspec": {
   "display_name": "Python 2",
   "language": "python",
   "name": "python2"
  },
  "language_info": {
   "codemirror_mode": {
    "name": "ipython",
    "version": 2
   },
   "file_extension": ".py",
   "mimetype": "text/x-python",
   "name": "python",
   "nbconvert_exporter": "python",
   "pygments_lexer": "ipython2",
   "version": "2.7.10"
  }
 },
 "nbformat": 4,
 "nbformat_minor": 0
}
