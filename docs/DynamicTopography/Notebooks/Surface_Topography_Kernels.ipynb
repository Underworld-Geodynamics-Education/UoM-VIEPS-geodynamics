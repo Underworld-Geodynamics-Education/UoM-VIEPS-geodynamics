{
 "cells": [
  {
   "cell_type": "markdown",
   "metadata": {},
   "source": [
    "## Surface topography kernels\n",
    "\n",
    "Follows the approach of Parsons & Daly (1983) and Robinson & Parsons (1987) to compute spectral/depth response functions for the surface topography in a buoyancy driven Stokes flow. \n",
    "\n",
    "\n",
    "\n",
    "  0. Parsons, B., and S. Daly (1983), The relationship between surface topography, gravity anomalies, and temperature structure of convection, Journal of Geophysical Research: Solid Earth (1978–2012), 88(B2), 1129–1144, doi:10.1029/JB088iB02p01129.\n",
    "\n",
    "  0.  Robinson, E. M., B. Parsons, and S. F. Daly (1987), The effect of a shallow low viscosity zone on the apparent compensation of mid-plate swells, Earth and Planetary Science Letters, 82(3-4), 335–348, doi:10.1016/0012-821X(87)90207-X.\n"
   ]
  },
  {
   "cell_type": "code",
   "execution_count": 1,
   "metadata": {
    "collapsed": false
   },
   "outputs": [],
   "source": [
    "## Kernels     \n",
    "\n",
    "%matplotlib inline\n",
    "\n",
    "import underworld as uw\n",
    "import math\n",
    "from underworld import function as fn\n",
    "import glucifer\n",
    "\n",
    "import matplotlib.pyplot as plt\n",
    "import matplotlib.pylab as pylab\n",
    "import numpy as np\n",
    "import os"
   ]
  },
  {
   "cell_type": "code",
   "execution_count": 2,
   "metadata": {
    "collapsed": false
   },
   "outputs": [],
   "source": [
    "dim = 2\n",
    "meshX = 64\n",
    "meshY = 64\n",
    "\n",
    "Q1dP0Mesh = uw.mesh.FeMesh_Cartesian( elementType='Q1/dQ0',\n",
    "                                      elementRes=(meshX,meshY), \n",
    "                                      minCoord=(0.,0.), maxCoord=(1.,1.)  )\n",
    "\n",
    "Q1Mesh =  Q1dP0Mesh # returns outer mesh by default\n",
    "dP0Mesh = Q1dP0Mesh.subMesh\n",
    "\n",
    "velocityMesh =  Q1Mesh\n",
    "pressureMesh = dP0Mesh\n",
    "\n",
    "xCoordFn = fn.input()[0]\n",
    "yCoordFn = fn.input()[1]\n",
    "\n",
    "x_coordinates = xCoordFn.evaluate(velocityMesh.specialSets[\"MinJ_VertexSet\"])\n",
    "y_coordinates = yCoordFn.evaluate(velocityMesh.specialSets[\"MinI_VertexSet\"])\n",
    "\n"
   ]
  },
  {
   "cell_type": "code",
   "execution_count": 3,
   "metadata": {
    "collapsed": true
   },
   "outputs": [],
   "source": [
    "# create & zero meshvariables\n",
    "velocityField    = uw.mesh.MeshVariable( mesh=velocityMesh,   nodeDofCount=dim )\n",
    "pressureField    = uw.mesh.MeshVariable( mesh=pressureMesh,   nodeDofCount=1 )\n",
    "temperatureField = uw.mesh.MeshVariable( mesh=velocityMesh,   nodeDofCount=1 )\n",
    "\n",
    "velocityField.data[:] = [0.,0.]\n",
    "pressureField.data[:] = 0.\n",
    "temperatureField.data[:] = 0."
   ]
  },
  {
   "cell_type": "code",
   "execution_count": 4,
   "metadata": {
    "collapsed": false
   },
   "outputs": [],
   "source": [
    "IWalls = velocityMesh.specialSets[\"MinI_VertexSet\"] + velocityMesh.specialSets[\"MaxI_VertexSet\"]\n",
    "JWalls = velocityMesh.specialSets[\"MinJ_VertexSet\"] + velocityMesh.specialSets[\"MaxJ_VertexSet\"]\n",
    "\n",
    "freeslipBC = uw.conditions.DirichletCondition(    variable=velocityField, \n",
    "                                                  indexSetsPerDof=(IWalls,JWalls) )\n",
    "\n",
    "# temperature does not evolve with time so no bcs are needed"
   ]
  },
  {
   "cell_type": "code",
   "execution_count": 5,
   "metadata": {
    "collapsed": false
   },
   "outputs": [],
   "source": [
    "# UW function to define a layered viscosity\n",
    "\n",
    "layer1Viscosity = fn.misc.constant(100.0)\n",
    "layer2Viscosity = fn.misc.constant(0.1)\n",
    "layer3Viscosity = fn.misc.constant(1.0)\n",
    "\n",
    "layer1Depth = 0.9\n",
    "layer2Depth = 0.7\n",
    "layer3Depth = 0.0\n",
    "\n",
    "xCoordFn = fn.input()[0]\n",
    "yCoordFn = fn.input()[1]\n",
    "\n",
    "fn_viscosity = fn.branching.conditional(\n",
    "    [ ( yCoordFn > layer1Depth , layer1Viscosity ),\n",
    "      ( yCoordFn > layer2Depth , layer2Viscosity ), \n",
    "      (                   True , layer3Viscosity )  ] )\n",
    "\n",
    "# UW function to compute the total stress and vertical stress at any given point\n",
    "# And a filter function to grab the coordinates at the node points\n",
    "\n"
   ]
  },
  {
   "cell_type": "code",
   "execution_count": 6,
   "metadata": {
    "collapsed": true
   },
   "outputs": [],
   "source": [
    "# Setup a stokes system\n",
    "# For PIC style integration, we include a swarm for the a PIC integration swarm is generated within.\n",
    "# For gauss integration, simple do not include the swarm. Nearest neighbour is used where required.\n",
    "\n",
    "forceFn = (0.0, 1.0) * temperatureField\n",
    "\n",
    "stokesEqn = uw.systems.Stokes(velocityField=velocityField, \n",
    "                              pressureField=pressureField,\n",
    "                              conditions=[freeslipBC,],\n",
    "                              fn_viscosity=fn.exception.SafeMaths(fn_viscosity), \n",
    "                              fn_bodyforce=forceFn )\n",
    "\n",
    "solver=uw.systems.Solver(stokesEqn)\n",
    "\n",
    "penaltyNumber=1.0e6\n",
    "solver.set_inner_method(\"mumps\")\n",
    "solver.set_penalty(penaltyNumber)\n",
    "\n",
    "stresstensorFn =  2.* stokesEqn.fn_viscosity*fn.tensor.symmetric( velocityField.fn_gradient ) - pressureField\n",
    "verticalStressFn = stresstensorFn[1]\n",
    "\n"
   ]
  },
  {
   "cell_type": "code",
   "execution_count": 34,
   "metadata": {
    "collapsed": false
   },
   "outputs": [],
   "source": [
    "## This will not work in parallel - need parallel FFT !\n",
    "\n",
    "# a function to calculate the response for a depth / wavenumber combo\n",
    "\n",
    "def single_layer_temperature(wavenumber, layer_height):\n",
    "    \"\"\"\n",
    "    Place a harmonic 'delta function' at a given layer in the mesh.   \n",
    "    Assumes global: temperatureField, velocityMesh, meshX, meshY\n",
    "    \"\"\"\n",
    "\n",
    "    import numpy as numpy\n",
    "\n",
    "    k = wavenumber * math.pi\n",
    "\n",
    "    T = temperatureField.data.reshape(meshY+1,meshX+1)\n",
    "    X = velocityMesh.data.reshape(meshY+1,meshX+1,2)\n",
    "\n",
    "    T[...] = 0.0\n",
    "    T[layer_height,:] = numpy.cos( k * X[layer_height,:,0] )\n",
    "\n",
    "    return T.reshape((meshX+1)*(meshY+1),1)\n",
    "\n",
    "def layer_fft(data):\n",
    "    \"\"\"\n",
    "    Find fft of data in 1d - this is intended to be a mesh layer - so if the mesh is not uniform\n",
    "    it will do something about it !\n",
    "    \"\"\"\n",
    "\n",
    "    from scipy import fftpack as fft\n",
    "    import numpy as np\n",
    "    \n",
    "    samples = len(data)\n",
    "#     packed_data = np.empty(2*samples-1)\n",
    "#     packed_data[0:samples] = data[:]\n",
    "#     packed_data[samples:2*samples] = data[samples:0:-1]\n",
    "\n",
    "    dataFT = fft.dct(data) / samples\n",
    "    \n",
    "    return dataFT\n",
    "\n",
    "\n",
    "\n",
    "def direct_wavenumber_topo_kernel(wavenumber):\n",
    "    \"\"\"\n",
    "    Compute the response at a given wavenumber for each layer at depth and return kernel for the same wavenumber\n",
    "    Assumes global: temperatureField, velocityMesh, meshX, meshY, \n",
    "    \"\"\"\n",
    "\n",
    "    import numpy as np\n",
    "\n",
    "    kernel = np.empty(meshY+1)\n",
    "\n",
    "    kernel[0] = 0\n",
    "    kernel[-1] = 1.0\n",
    "    \n",
    "    for layer in range(2,meshY-1,2):\n",
    "        \n",
    "        temperatureField.data[:] = meshY * single_layer_temperature(wavenumber, layer)\n",
    "        solver.solve()   \n",
    "        surface_topography = -verticalStressFn.evaluate(velocityMesh.specialSets[\"MaxJ_VertexSet\"]).T[0]\n",
    "\n",
    "        kfft = layer_fft(surface_topography)\n",
    "        kernel[layer] = layer_fft(surface_topography)[wavenumber]\n",
    "        \n",
    "    for layer in range(1,meshY,2):\n",
    "        kernel[layer] = 0.5 * (kernel[layer-1] + kernel[layer+1])\n",
    "        \n",
    "    return kernel\n",
    " \n",
    "    \n",
    "def all_wavenumber_topo_kernel(wavenumber):\n",
    "    \"\"\"\n",
    "    Compute the response at a given wavenumber for each layer at depth and return kernel for the same wavenumber\n",
    "    Assumes global: temperatureField, velocityMesh, meshX, meshY, \n",
    "    \"\"\"\n",
    "\n",
    "    import numpy as np\n",
    "\n",
    "    kernels = np.empty((meshY+1,meshX+1))\n",
    "\n",
    "    kernels[0][:] = 0\n",
    "    kernels[-1][:] = 0\n",
    "    kernels[-1][wavenumber] = 1.0\n",
    "    \n",
    "    for layer in range(2,meshY-1,2):\n",
    "        \n",
    "        temperatureField.data[:] = meshY * single_layer_temperature(wavenumber, layer)\n",
    "        solver.solve()   \n",
    "        surface_topography = -verticalStressFn.evaluate(velocityMesh.specialSets[\"MaxJ_VertexSet\"]).T[0]\n",
    "\n",
    "        kernels[:][layer] = layer_fft(surface_topography)\n",
    "        \n",
    "    for layer in range(1,meshY,2):\n",
    "        kernels[layer][:] = 0.5 * (kernels[layer-1][:] + kernels[layer+1][:])\n",
    "        \n",
    "    return kernels\n"
   ]
  },
  {
   "cell_type": "code",
   "execution_count": 31,
   "metadata": {
    "collapsed": false
   },
   "outputs": [
    {
     "data": {
      "text/html": [
       "<img src='data:image/png;base64,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'>"
      ],
      "text/plain": [
       "<IPython.core.display.HTML object>"
      ]
     },
     "execution_count": 31,
     "metadata": {},
     "output_type": "execute_result"
    }
   ],
   "source": [
    "# Test this by hand with a single layer driving buoyancy\n",
    "\n",
    "temperatureField.data[:] = meshY * single_layer_temperature(1.0, 50)\n",
    "solver.solve()\n",
    "vscale = velocityField.evaluate(velocityMesh).max()\n",
    "\n",
    "figtemp = glucifer.Figure( figsize=(1600,800) )\n",
    "figtemp.append( glucifer.objects.Surface(Q1Mesh, fn_viscosity, colours=\"#000000:0.25, #444444:0.25, #FFFFFF:0.25\") )\n",
    "figtemp.append( glucifer.objects.VectorArrows(Q1Mesh, velocityField, \n",
    "                                              arrowHead=0.2, scaling=1.0,\n",
    "                                              resolutionI=25,\n",
    "                                            resolutionJ=25) )\n",
    "figtemp.append( glucifer.objects.Surface(Q1Mesh, temperatureField, colours=\"#0000FF:1.0, #FFFFFF:0.0, #FF0000:1.0\") )\n",
    "\n",
    "figtemp.show()\n"
   ]
  },
  {
   "cell_type": "code",
   "execution_count": 32,
   "metadata": {
    "collapsed": false
   },
   "outputs": [
    {
     "data": {
      "text/plain": [
       "(-0.05, 1.05)"
      ]
     },
     "execution_count": 32,
     "metadata": {},
     "output_type": "execute_result"
    },
    {
     "data": {
      "image/png": "[encoded data removed]",
      "text/plain": [
       "<matplotlib.figure.Figure at 0x11487a250>"
      ]
     },
     "metadata": {},
     "output_type": "display_data"
    }
   ],
   "source": [
    "## Compute (total) stress, and thus topography and see how that looks in real / fourier domain\n",
    "\n",
    "surface_topography = -verticalStressFn.evaluate(velocityMesh.specialSets[\"MaxJ_VertexSet\"]).T[0]\n",
    "x_coordinates = xCoordFn.evaluate(velocityMesh.specialSets[\"MaxJ_VertexSet\"])\n",
    "y_coordinates = yCoordFn.evaluate(velocityMesh.specialSets[\"MinI_VertexSet\"])\n",
    "\n",
    "import matplotlib.pyplot as pyplot\n",
    "\n",
    "fig, (plot1,plot2) = pyplot.subplots(1,2)\n",
    "fig.set_alpha=0.5\n",
    "fig.set_size_inches(8,4)\n",
    "\n",
    "plot1.plot(x_coordinates, surface_topography)\n",
    "\n",
    "surface_topography_fft = layer_fft(surface_topography)\n",
    "\n",
    "plot2.bar(range(0,len(surface_topography_fft)), surface_topography_fft*100, color=\"red\", alpha=0.3, width=0.8)\n",
    "plot2.bar(range(0,len(surface_topography_fft)), surface_topography_fft)\n",
    "\n",
    "plot2.set_xlim(0,20)\n",
    "plot2.set_ylim(-0.05,1.05)"
   ]
  },
  {
   "cell_type": "code",
   "execution_count": 35,
   "metadata": {
    "collapsed": false
   },
   "outputs": [],
   "source": [
    "kernel2 = direct_wavenumber_topo_kernel(2)"
   ]
  },
  {
   "cell_type": "code",
   "execution_count": 36,
   "metadata": {
    "collapsed": false
   },
   "outputs": [
    {
     "data": {
      "text/plain": [
       "<matplotlib.text.Text at 0x114826fd0>"
      ]
     },
     "execution_count": 36,
     "metadata": {},
     "output_type": "execute_result"
    },
    {
     "data": {
      "image/png": "[encoded data removed]",
      "text/plain": [
       "<matplotlib.figure.Figure at 0x1149d7050>"
      ]
     },
     "metadata": {},
     "output_type": "display_data"
    }
   ],
   "source": [
    "import matplotlib.pyplot as pyplot\n",
    "import numpy as np\n",
    "\n",
    "fig, (plot1) = pyplot.subplots(1,1)\n",
    "fig.set_alpha=0.5\n",
    "fig.set_size_inches(4,4)\n",
    "plot1.plot(kernel2, y_coordinates, marker='.')\n",
    "plot1.set_ylim(0.0,1.0)\n",
    "plot1.set_title(\"Kernel for layered medium at wavenumber k = 2$\\pi$ \\n\")\n",
    "\n",
    "# np.savez(\"ThreeLayer_100_01_1_Kernel2\", kernel=kernel2, y=y_coordinates)"
   ]
  },
  {
   "cell_type": "markdown",
   "metadata": {},
   "source": [
    "## Mode coupling and solver tolerances\n",
    "\n",
    "We don't need the analytic solutions to test for erroneous mode coupling in layered viscosity cases. There should be no signal at wavelengths not represented in the driving buoyancy.\n",
    "\n",
    "The high wavenumber modes from low-wavenumber driving buoyancy terms and the low wavenumber modes for high-wavenumber buoyancy terms seem to be diagnostic here. Though it's not obvious what this actually means."
   ]
  },
  {
   "cell_type": "code",
   "execution_count": 37,
   "metadata": {
    "collapsed": false
   },
   "outputs": [],
   "source": [
    "# Can we use this result to estimate required tolerances ?\n",
    "\n",
    "solver.options.A11.ksp_rtol=1e-7\n",
    "solver.options.scr.ksp_rtol=1e-6\n",
    "\n",
    "kernels2 = all_wavenumber_topo_kernel(2)\n",
    "kernels5 = all_wavenumber_topo_kernel(5)\n",
    "\n",
    "solver.options.A11.ksp_rtol=1e-4\n",
    "solver.options.scr.ksp_rtol=1e-3\n",
    "\n",
    "kernels2_lr = all_wavenumber_topo_kernel(2)\n",
    "kernels5_lr = all_wavenumber_topo_kernel(5)\n"
   ]
  },
  {
   "cell_type": "code",
   "execution_count": 38,
   "metadata": {
    "collapsed": false
   },
   "outputs": [
    {
     "data": {
      "text/plain": [
       "<matplotlib.text.Text at 0x11f837bd0>"
      ]
     },
     "execution_count": 38,
     "metadata": {},
     "output_type": "execute_result"
    },
    {
     "data": {
      "image/png": "[encoded data removed]",
      "text/plain": [
       "<matplotlib.figure.Figure at 0x11f0b67d0>"
      ]
     },
     "metadata": {},
     "output_type": "display_data"
    }
   ],
   "source": [
    "import matplotlib.pyplot as pyplot\n",
    "\n",
    "fig, (plot1, plot2) = pyplot.subplots(1,2)\n",
    "fig.set_alpha=0.5\n",
    "fig.set_size_inches(8,4)\n",
    "\n",
    "plot1.plot(kernels2[:,2], y_coordinates, marker='', linewidth=2.0)\n",
    "plot1.plot(kernels2_lr[:,2], y_coordinates, marker='.', linewidth=1.0)\n",
    "plot1.set_ylim(0.0,1.0)\n",
    "plot1.set_title(\"Direct response, $k=2\\pi$\")\n",
    "\n",
    "plot2.plot(kernels2_lr[:,1], y_coordinates, marker='', color='green', linewidth=2)\n",
    "plot2.plot(kernels2_lr[:,5], y_coordinates, marker='', color='gray', linewidth=2)\n",
    "plot2.plot(kernels2[:,1], y_coordinates, marker='.', color='green', linewidth=1)\n",
    "plot2.plot(kernels2[:,5], y_coordinates, marker='.', color='gray', linewidth=1)\n",
    "plot2.set_ylim(0.0,1.0)\n",
    "plot2.set_title(\"Indirect (mode-coupled)\")\n"
   ]
  },
  {
   "cell_type": "code",
   "execution_count": 39,
   "metadata": {
    "collapsed": false,
    "scrolled": true
   },
   "outputs": [
    {
     "data": {
      "text/plain": [
       "<matplotlib.text.Text at 0x11f2b9790>"
      ]
     },
     "execution_count": 39,
     "metadata": {},
     "output_type": "execute_result"
    },
    {
     "data": {
      "image/png": "[encoded data removed]",
      "text/plain": [
       "<matplotlib.figure.Figure at 0x11f163790>"
      ]
     },
     "metadata": {},
     "output_type": "display_data"
    }
   ],
   "source": [
    "import matplotlib.pyplot as pyplot\n",
    "\n",
    "fig, (plot1, plot2) = pyplot.subplots(1,2)\n",
    "fig.set_size_inches(8,4)\n",
    "\n",
    "plot1.plot(kernels5[:,5], y_coordinates, marker='', linewidth=2.0)\n",
    "plot1.plot(kernels5_lr[:,5], y_coordinates, marker='.', linewidth=2.0)\n",
    "plot1.set_ylim(0.0,1.0)\n",
    "plot1.set_title(\"Direct response, $k=5\\pi$\")\n",
    "\n",
    "plot2.plot(kernels5_lr[:,1], y_coordinates, marker='.', color='green', linewidth=1)\n",
    "plot2.plot(kernels5_lr[:,3], y_coordinates, marker='.', color='gray', linewidth=1)\n",
    "plot2.plot(kernels5[:,1], y_coordinates, marker='', color='green', linewidth=1)\n",
    "plot2.plot(kernels5[:,3], y_coordinates, marker='', color='gray', linewidth=1)\n",
    "plot2.set_ylim(0.0,1.0)\n",
    "plot2.set_title(\"Indirect (mode-coupled)\")\n"
   ]
  },
  {
   "cell_type": "markdown",
   "metadata": {},
   "source": [
    "# Compare with analytic solutions for laterally varying viscosity"
   ]
  },
  {
   "cell_type": "code",
   "execution_count": 57,
   "metadata": {
    "collapsed": false
   },
   "outputs": [
    {
     "data": {
      "text/plain": [
       "0.0022103685379631626"
      ]
     },
     "execution_count": 57,
     "metadata": {},
     "output_type": "execute_result"
    }
   ],
   "source": [
    "# First the harmonic force function from SolA\n",
    "\n",
    "solA = fn.analytic.SolCx(viscosityA=1.0, viscosityB=100.0, xc=0.4, nx=1)\n",
    "stokesEqn.fn_viscosity = solA.fn_viscosity\n",
    "stokesEqn.fn_bodyforce = solA.fn_bodyforce\n",
    "stresstensorFn =  2.0 * stokesEqn.fn_viscosity*fn.tensor.symmetric( velocityField.fn_gradient ) - pressureField\n",
    "anal_stresstensorFn =  fn.tensor.deviatoric(solA.fn_stress) - solA.fn_pressure\n",
    "\n",
    "verticalStressFn = stresstensorFn[1] \n",
    "anal_verticalStressFn = anal_stresstensorFn[1]\n",
    "\n",
    "# Check it ... \n",
    "\n",
    "solver.options.A11.ksp_rtol=1e-7\n",
    "solver.options.scr.ksp_rtol=1e-6\n",
    "\n",
    "solver.solve()\n",
    "vscale = velocityField.evaluate(Q1Mesh).max()\n",
    "\n",
    "figSolAVisc = glucifer.Figure( figsize=(1600,800) )\n",
    "figSolAVisc.append( glucifer.objects.Surface(Q1Mesh, stokesEqn.fn_viscosity, colours=[\"red\", \"yellow\", \"blue\"], colourBar=True, logScale=False, opacity=0.3) )\n",
    "figSolAVisc.append( glucifer.objects.VectorArrows(Q1Mesh, velocityField, \n",
    "                                                  arrowHead=0.0, scaling=0.01/vscale,\n",
    "                                                  resolutionI=25,\n",
    "                                                  resolutionJ=25) )\n",
    "figSolAVisc.show()\n",
    "\n",
    "vscale"
   ]
  },
  {
   "cell_type": "code",
   "execution_count": null,
   "metadata": {
    "collapsed": false
   },
   "outputs": [],
   "source": [
    "## Compute (total) stress, and thus topography and see how that looks in real / fourier domain\n",
    "## A cosine is added to demonstrate the performance of layer fft in an ideal case \n",
    "\n",
    "surface_topography = -verticalStressFn.evaluate(velocityMesh.specialSets[\"MaxJ_VertexSet\"]).T[0]\n",
    "anal_surface_topography = -anal_verticalStressFn.evaluate(velocityMesh.specialSets[\"MaxJ_VertexSet\"]).T[0]\n",
    "\n",
    "\n",
    "import matplotlib.pyplot as pyplot\n",
    "\n",
    "fig, (plot1,plot2) = pyplot.subplots(2,1)\n",
    "fig.set_alpha=0.5\n",
    "fig.set_size_inches(18,8)\n",
    "\n",
    "plot1.plot(x_coordinates, surface_topography)\n",
    "plot1.plot(x_coordinates, anal_surface_topography)\n",
    "plot1.plot(x_coordinates, np.cos(x_coordinates.T[0]*math.pi) * surface_topography.max(), linestyle=\":\")\n",
    "\n",
    "surface_topography_fft = layer_fft(surface_topography)\n",
    "anal_surface_topography_fft = layer_fft(anal_surface_topography)\n",
    "test_surface_topography_fft = layer_fft(np.cos(x_coordinates.T[0]*math.pi) * surface_topography.max())\n",
    "\n",
    "#plot2.bar(range(0,len(surface_topography_fft)), surface_topography_fft*100, color=\"red\", alpha=0.3, width=0.8)\n",
    "plot2.bar(range(0,len(surface_topography_fft)), surface_topography_fft, color=\"green\", alpha=0.3, width=0.4)\n",
    "plot2.bar(range(0,len(surface_topography_fft)), anal_surface_topography_fft)\n",
    "plot2.bar(range(0,len(surface_topography_fft)), 1.0e8*test_surface_topography_fft, color=\"red\", width=0.1)\n",
    "\n",
    "\n",
    "plot2.set_xlim(0,20)\n",
    "plot2.set_ylim(-0.01,1.0)\n",
    "pass\n"
   ]
  },
  {
   "cell_type": "code",
   "execution_count": null,
   "metadata": {
    "collapsed": false,
    "scrolled": true
   },
   "outputs": [],
   "source": [
    "solver.options.A11.ksp_rtol=1e-7\n",
    "solver.options.scr.ksp_rtol=1e-6\n",
    "stokesEqn.fn_bodyforce = forceFn\n",
    "\n",
    "kernels1a = all_wavenumber_topo_kernel(1)\n",
    "kernels5a = all_wavenumber_topo_kernel(5)"
   ]
  },
  {
   "cell_type": "code",
   "execution_count": null,
   "metadata": {
    "collapsed": false
   },
   "outputs": [],
   "source": [
    "import matplotlib.pyplot as pyplot\n",
    "\n",
    "k_array = kernels5a\n",
    "kd = 5\n",
    "ki_list = [1, 2, 3, 4, 5, 6, 7, 8, 9, 10]\n",
    "try:\n",
    "    ki_list.remove(kd)\n",
    "except:\n",
    "    pass\n",
    "\n",
    "fig, (plot1, plot2) = pyplot.subplots(1,2)\n",
    "fig.set_alpha=0.5\n",
    "fig.set_size_inches(8,4)\n",
    "\n",
    "plot1.plot(k_array[:,kd], y_coordinates, marker='', linewidth=2.0)\n",
    "plot1.set_ylim(0.0,1.0)\n",
    "plot1.set_title(\"Direct response at $k={:d}\\pi$\".format(kd))\n",
    "\n",
    "for k in ki_list:\n",
    "    plot2.plot(k_array[:,k], y_coordinates, marker='', linewidth=1)\n",
    "    \n",
    "plot2.set_ylim(0.0,1.0)\n",
    "plot2.set_title(\"Indirect (mode-coupled)\")"
   ]
  }
 ],
 "metadata": {
  "kernelspec": {
   "display_name": "Python 2",
   "language": "python",
   "name": "python2"
  },
  "language_info": {
   "codemirror_mode": {
    "name": "ipython",
    "version": 2
   },
   "file_extension": ".py",
   "mimetype": "text/x-python",
   "name": "python",
   "nbconvert_exporter": "python",
   "pygments_lexer": "ipython2",
   "version": "2.7.11"
  }
 },
 "nbformat": 4,
 "nbformat_minor": 0
}
