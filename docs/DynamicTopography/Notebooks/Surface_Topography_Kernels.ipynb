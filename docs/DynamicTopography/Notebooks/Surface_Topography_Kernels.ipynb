{
 "cells": [
  {
   "cell_type": "markdown",
   "metadata": {},
   "source": [
    "## Surface topography kernels\n",
    "\n",
    "Follows the approach of Parsons & Daly (1983) and Robinson & Parsons (1987) to compute spectral/depth response functions for the surface topography in a buoyancy driven Stokes flow. \n",
    "\n",
    "\n",
    "\n",
    "  0. Parsons, B., and S. Daly (1983), The relationship between surface topography, gravity anomalies, and temperature structure of convection, Journal of Geophysical Research: Solid Earth (1978–2012), 88(B2), 1129–1144, doi:10.1029/JB088iB02p01129.\n",
    "\n",
    "  0.  Robinson, E. M., B. Parsons, and S. F. Daly (1987), The effect of a shallow low viscosity zone on the apparent compensation of mid-plate swells, Earth and Planetary Science Letters, 82(3-4), 335–348, doi:10.1016/0012-821X(87)90207-X.\n"
   ]
  },
  {
   "cell_type": "code",
   "execution_count": 2,
   "metadata": {
    "collapsed": true
   },
   "outputs": [],
   "source": [
    "import numpy as np\n",
    "import math"
   ]
  },
  {
   "cell_type": "code",
   "execution_count": 3,
   "metadata": {
    "collapsed": false
   },
   "outputs": [
    {
     "name": "stderr",
     "output_type": "stream",
     "text": [
      "/opt/spack/opt/spack/darwin-highsierra-x86_64/clang-9.0.0-apple/py-h5py-2.7.1-cjcvupm2zgsrtujexr66zjbyzpqekfdu/lib/python2.7/site-packages/h5py/__init__.py:36: FutureWarning: Conversion of the second argument of issubdtype from `float` to `np.floating` is deprecated. In future, it will be treated as `np.float64 == np.dtype(float).type`.\n",
      "  from ._conv import register_converters as _register_converters\n"
     ]
    }
   ],
   "source": [
    "import underworld as uw\n",
    "from underworld import function as fn\n",
    "import glucifer"
   ]
  },
  {
   "cell_type": "code",
   "execution_count": 4,
   "metadata": {
    "collapsed": true
   },
   "outputs": [],
   "source": [
    "## Kernels     \n",
    "import matplotlib.pyplot as plt\n",
    "import matplotlib.pylab as pylab\n",
    "%matplotlib inline\n",
    "\n"
   ]
  },
  {
   "cell_type": "code",
   "execution_count": 5,
   "metadata": {
    "collapsed": true
   },
   "outputs": [],
   "source": [
    "dim = 2\n",
    "meshX = 64\n",
    "meshY = 64\n",
    "\n",
    "Q1dP0Mesh = uw.mesh.FeMesh_Cartesian( elementType='Q1/dQ0',\n",
    "                                      elementRes=(meshX,meshY), \n",
    "                                      minCoord=(0.,0.), maxCoord=(1.,1.)  )\n",
    "\n",
    "Q1Mesh =  Q1dP0Mesh # returns outer mesh by default\n",
    "dP0Mesh = Q1dP0Mesh.subMesh\n",
    "\n",
    "velocityMesh =  Q1Mesh\n",
    "pressureMesh = dP0Mesh\n",
    "\n",
    "xCoordFn = fn.input()[0]\n",
    "yCoordFn = fn.input()[1]\n",
    "\n",
    "x_coordinates = xCoordFn.evaluate(velocityMesh.specialSets[\"MinJ_VertexSet\"])\n",
    "y_coordinates = yCoordFn.evaluate(velocityMesh.specialSets[\"MinI_VertexSet\"])\n",
    "\n"
   ]
  },
  {
   "cell_type": "code",
   "execution_count": 12,
   "metadata": {
    "collapsed": true
   },
   "outputs": [],
   "source": [
    "# create & zero meshvariables\n",
    "velocityField    = velocityMesh.add_variable( nodeDofCount=dim )\n",
    "pressureField    = pressureMesh.add_variable( nodeDofCount=1 )\n",
    "temperatureField = velocityMesh.add_variable( nodeDofCount=1 )\n",
    "\n",
    "velocityField.data[:] = [0.,0.]\n",
    "pressureField.data[:] = 0.\n",
    "temperatureField.data[:] = 0."
   ]
  },
  {
   "cell_type": "code",
   "execution_count": 13,
   "metadata": {
    "collapsed": true
   },
   "outputs": [],
   "source": [
    "IWalls = velocityMesh.specialSets[\"MinI_VertexSet\"] + velocityMesh.specialSets[\"MaxI_VertexSet\"]\n",
    "JWalls = velocityMesh.specialSets[\"MinJ_VertexSet\"] + velocityMesh.specialSets[\"MaxJ_VertexSet\"]\n",
    "\n",
    "freeslipBC = uw.conditions.DirichletCondition(    variable=velocityField, \n",
    "                                                  indexSetsPerDof=(IWalls,JWalls) )\n",
    "\n",
    "# temperature does not evolve with time so no bcs are needed"
   ]
  },
  {
   "cell_type": "code",
   "execution_count": 14,
   "metadata": {
    "collapsed": true
   },
   "outputs": [],
   "source": [
    "# UW function to define a layered viscosity\n",
    "\n",
    "layer1Viscosity = fn.misc.constant(100.0)\n",
    "layer2Viscosity = fn.misc.constant(0.1)\n",
    "layer3Viscosity = fn.misc.constant(1.0)\n",
    "\n",
    "layer1Depth = 0.9\n",
    "layer2Depth = 0.7\n",
    "layer3Depth = 0.0\n",
    "\n",
    "xCoordFn = fn.input()[0]\n",
    "yCoordFn = fn.input()[1]\n",
    "\n",
    "fn_viscosity = fn.branching.conditional(\n",
    "    [ ( yCoordFn > layer1Depth , layer1Viscosity ),\n",
    "      ( yCoordFn > layer2Depth , layer2Viscosity ), \n",
    "      (                   True , layer3Viscosity )  ] )\n",
    "\n",
    "# UW function to compute the total stress and vertical stress at any given point\n",
    "# And a filter function to grab the coordinates at the node points\n",
    "\n"
   ]
  },
  {
   "cell_type": "code",
   "execution_count": 15,
   "metadata": {
    "collapsed": false
   },
   "outputs": [],
   "source": [
    "# Setup a stokes system\n",
    "# For PIC style integration, we include a swarm for the a PIC integration swarm is generated within.\n",
    "# For gauss integration, simple do not include the swarm. Nearest neighbour is used where required.\n",
    "\n",
    "forceFn = (0.0, 1.0) * temperatureField\n",
    "\n",
    "stokesEqn = uw.systems.Stokes(velocityField=velocityField, \n",
    "                              pressureField=pressureField,\n",
    "                              conditions=[freeslipBC,],\n",
    "                              fn_viscosity=fn.exception.SafeMaths(fn_viscosity), \n",
    "                              fn_bodyforce=forceFn )\n",
    "\n",
    "solver=uw.systems.Solver(stokesEqn)\n",
    "\n",
    "penaltyNumber=1.0e6\n",
    "solver.set_inner_method(\"mumps\")\n",
    "solver.set_penalty(penaltyNumber)\n",
    "\n",
    "stresstensorFn =  2.* stokesEqn.fn_viscosity*fn.tensor.symmetric( velocityField.fn_gradient )   \n",
    "verticalStressFn = stresstensorFn[1] - pressureField\n",
    "\n"
   ]
  },
  {
   "cell_type": "code",
   "execution_count": 16,
   "metadata": {
    "collapsed": true
   },
   "outputs": [],
   "source": [
    "## This will not work in parallel - need parallel FFT !\n",
    "\n",
    "# a function to calculate the response for a depth / wavenumber combo\n",
    "\n",
    "def single_layer_temperature(wavenumber, layer_height):\n",
    "    \"\"\"\n",
    "    Place a harmonic 'delta function' at a given layer in the mesh.   \n",
    "    Assumes global: temperatureField, velocityMesh, meshX, meshY\n",
    "    \"\"\"\n",
    "\n",
    "    import numpy as numpy\n",
    "\n",
    "    k = wavenumber * math.pi\n",
    "\n",
    "    T = temperatureField.data.reshape(meshY+1,meshX+1)\n",
    "    X = velocityMesh.data.reshape(meshY+1,meshX+1,2)\n",
    "\n",
    "    T[...] = 0.0\n",
    "    T[layer_height,:] = numpy.cos( k * X[layer_height,:,0] )\n",
    "\n",
    "    return T.reshape((meshX+1)*(meshY+1),1)\n",
    "\n",
    "def layer_fft(data):\n",
    "    \"\"\"\n",
    "    Find fft of data in 1d - this is intended to be a mesh layer - so if the mesh is not uniform\n",
    "    it will do something about it !\n",
    "    \"\"\"\n",
    "\n",
    "    from scipy import fftpack as fft\n",
    "    import numpy as np\n",
    "    \n",
    "    samples = len(data)\n",
    "#     packed_data = np.empty(2*samples-1)\n",
    "#     packed_data[0:samples] = data[:]\n",
    "#     packed_data[samples:2*samples] = data[samples:0:-1]\n",
    "\n",
    "    dataFT = fft.dct(data) / samples\n",
    "    \n",
    "    return dataFT\n",
    "\n",
    "\n",
    "\n",
    "def direct_wavenumber_topo_kernel(wavenumber):\n",
    "    \"\"\"\n",
    "    Compute the response at a given wavenumber for each layer at depth and return kernel for the same wavenumber\n",
    "    Assumes global: temperatureField, velocityMesh, meshX, meshY, \n",
    "    \"\"\"\n",
    "\n",
    "    import numpy as np\n",
    "\n",
    "    kernel = np.empty(meshY+1)\n",
    "\n",
    "    kernel[0] = 0\n",
    "    kernel[-1] = 1.0\n",
    "    \n",
    "    for layer in range(2,meshY-1,2):\n",
    "        \n",
    "        temperatureField.data[:] = meshY * single_layer_temperature(wavenumber, layer)\n",
    "        solver.solve()   \n",
    "        surface_topography = -verticalStressFn.evaluate(velocityMesh.specialSets[\"MaxJ_VertexSet\"]).T[0]\n",
    "\n",
    "        kfft = layer_fft(surface_topography)\n",
    "        kernel[layer] = layer_fft(surface_topography)[wavenumber]\n",
    "        \n",
    "    for layer in range(1,meshY,2):\n",
    "        kernel[layer] = 0.5 * (kernel[layer-1] + kernel[layer+1])\n",
    "        \n",
    "    return kernel\n",
    " \n",
    "    \n",
    "def all_wavenumber_topo_kernel(wavenumber):\n",
    "    \"\"\"\n",
    "    Compute the response at a given wavenumber for each layer at depth and return kernel for the same wavenumber\n",
    "    Assumes global: temperatureField, velocityMesh, meshX, meshY, \n",
    "    \"\"\"\n",
    "\n",
    "    import numpy as np\n",
    "\n",
    "    kernels = np.empty((meshY+1,meshX+1))\n",
    "\n",
    "    kernels[0][:] = 0\n",
    "    kernels[-1][:] = 0\n",
    "    kernels[-1][wavenumber] = 1.0\n",
    "    \n",
    "    for layer in range(2,meshY-1,2):\n",
    "        \n",
    "        temperatureField.data[:] = meshY * single_layer_temperature(wavenumber, layer)\n",
    "        solver.solve()   \n",
    "        surface_topography = -verticalStressFn.evaluate(velocityMesh.specialSets[\"MaxJ_VertexSet\"]).T[0]\n",
    "\n",
    "        kernels[:][layer] = layer_fft(surface_topography)\n",
    "        \n",
    "    for layer in range(1,meshY,2):\n",
    "        kernels[layer][:] = 0.5 * (kernels[layer-1][:] + kernels[layer+1][:])\n",
    "        \n",
    "    return kernels\n"
   ]
  },
  {
   "cell_type": "code",
   "execution_count": 17,
   "metadata": {
    "collapsed": false
   },
   "outputs": [
    {
     "data": {
      "text/html": [
       "<img src='data:image/png;base64,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'>"
      ],
      "text/plain": [
       "<IPython.core.display.HTML object>"
      ]
     },
     "metadata": {},
     "output_type": "display_data"
    }
   ],
   "source": [
    "# Test this by hand with a single layer driving buoyancy\n",
    "\n",
    "temperatureField.data[:] = meshY * single_layer_temperature(1.0, 50)\n",
    "solver.solve()\n",
    "vscale = velocityField.evaluate(velocityMesh).max()\n",
    "\n",
    "figtemp = glucifer.Figure( figsize=(1600,800) )\n",
    "figtemp.append( glucifer.objects.Surface(Q1Mesh, fn_viscosity, colours=\"#000000:0.25, #444444:0.25, #FFFFFF:0.25\") )\n",
    "figtemp.append( glucifer.objects.VectorArrows(Q1Mesh, velocityField, \n",
    "                                              arrowHead=0.2, scaling=1.0,\n",
    "                                              resolution=[25,25,1]) )\n",
    "figtemp.append( glucifer.objects.Surface(Q1Mesh, temperatureField, colours=\"#0000FF:1.0, #FFFFFF:0.0, #FF0000:1.0\") )\n",
    "\n",
    "figtemp.show()\n"
   ]
  },
  {
   "cell_type": "code",
   "execution_count": 11,
   "metadata": {
    "collapsed": false
   },
   "outputs": [
    {
     "data": {
      "text/plain": [
       "(-0.05, 1.05)"
      ]
     },
     "execution_count": 11,
     "metadata": {},
     "output_type": "execute_result"
    },
    {
     "data": {
      "image/png": "[encoded data removed]",
      "text/plain": [
       "<Figure size 576x288 with 2 Axes>"
      ]
     },
     "metadata": {},
     "output_type": "display_data"
    }
   ],
   "source": [
    "## Compute (total) stress, and thus topography and see how that looks in real / fourier domain\n",
    "\n",
    "surface_topography = -verticalStressFn.evaluate(velocityMesh.specialSets[\"MaxJ_VertexSet\"]).T[0]\n",
    "x_coordinates = xCoordFn.evaluate(velocityMesh.specialSets[\"MaxJ_VertexSet\"])\n",
    "y_coordinates = yCoordFn.evaluate(velocityMesh.specialSets[\"MinI_VertexSet\"])\n",
    "\n",
    "fig, (plot1,plot2) = plt.subplots(1,2)\n",
    "fig.set_alpha=0.5\n",
    "fig.set_size_inches(8,4)\n",
    "\n",
    "plot1.plot(x_coordinates, surface_topography)\n",
    "\n",
    "surface_topography_fft = layer_fft(surface_topography)\n",
    "\n",
    "plot2.bar(range(0,len(surface_topography_fft)), surface_topography_fft*100, color=\"red\", alpha=0.3, width=0.8)\n",
    "plot2.bar(range(0,len(surface_topography_fft)), surface_topography_fft)\n",
    "\n",
    "plot2.set_xlim(0,20)\n",
    "plot2.set_ylim(-0.05,1.05)"
   ]
  },
  {
   "cell_type": "code",
   "execution_count": 12,
   "metadata": {
    "collapsed": true
   },
   "outputs": [],
   "source": [
    "kernel2 = direct_wavenumber_topo_kernel(2)"
   ]
  },
  {
   "cell_type": "code",
   "execution_count": 13,
   "metadata": {
    "collapsed": false
   },
   "outputs": [
    {
     "data": {
      "text/plain": [
       "Text(0.5,1,'Kernel for layered medium at wavenumber k = 2$\\\\pi$ \\n')"
      ]
     },
     "execution_count": 13,
     "metadata": {},
     "output_type": "execute_result"
    },
    {
     "data": {
      "image/png": "[encoded data removed]",
      "text/plain": [
       "<Figure size 288x288 with 1 Axes>"
      ]
     },
     "metadata": {},
     "output_type": "display_data"
    }
   ],
   "source": [
    "\n",
    "fig, (plot1) = plt.subplots(1,1)\n",
    "fig.set_alpha=0.5\n",
    "fig.set_size_inches(4,4)\n",
    "plot1.plot(kernel2, y_coordinates, marker='.')\n",
    "plot1.set_ylim(0.0,1.0)\n",
    "plot1.set_title(\"Kernel for layered medium at wavenumber k = 2$\\pi$ \\n\")\n",
    "\n",
    "# np.savez(\"ThreeLayer_100_01_1_Kernel2\", kernel=kernel2, y=y_coordinates)"
   ]
  },
  {
   "cell_type": "markdown",
   "metadata": {},
   "source": [
    "## Mode coupling and solver tolerances\n",
    "\n",
    "We don't need the analytic solutions to test for erroneous mode coupling in layered viscosity cases. There should be no signal at wavelengths not represented in the driving buoyancy.\n",
    "\n",
    "The high wavenumber modes from low-wavenumber driving buoyancy terms and the low wavenumber modes for high-wavenumber buoyancy terms seem to be diagnostic here. Though it's not obvious what this actually means."
   ]
  },
  {
   "cell_type": "code",
   "execution_count": 14,
   "metadata": {
    "collapsed": true
   },
   "outputs": [],
   "source": [
    "# Can we use this result to estimate required tolerances ?\n",
    "\n",
    "solver.options.A11.ksp_rtol=1e-7\n",
    "solver.options.scr.ksp_rtol=1e-6\n",
    "\n",
    "kernels2 = all_wavenumber_topo_kernel(2)\n",
    "kernels5 = all_wavenumber_topo_kernel(5)\n",
    "\n",
    "solver.options.A11.ksp_rtol=1e-4\n",
    "solver.options.scr.ksp_rtol=1e-3\n",
    "\n",
    "kernels2_lr = all_wavenumber_topo_kernel(2)\n",
    "kernels5_lr = all_wavenumber_topo_kernel(5)\n"
   ]
  },
  {
   "cell_type": "code",
   "execution_count": 15,
   "metadata": {
    "collapsed": false
   },
   "outputs": [
    {
     "data": {
      "text/plain": [
       "Text(0.5,1,'Indirect (mode-coupled)')"
      ]
     },
     "execution_count": 15,
     "metadata": {},
     "output_type": "execute_result"
    },
    {
     "data": {
      "image/png": "[encoded data removed]",
      "text/plain": [
       "<Figure size 576x288 with 2 Axes>"
      ]
     },
     "metadata": {},
     "output_type": "display_data"
    }
   ],
   "source": [
    "import matplotlib.pyplot as pyplot\n",
    "\n",
    "fig, (plot1, plot2) = pyplot.subplots(1,2)\n",
    "fig.set_alpha=0.5\n",
    "fig.set_size_inches(8,4)\n",
    "\n",
    "plot1.plot(kernels2[:,2], y_coordinates, marker='', linewidth=2.0)\n",
    "plot1.plot(kernels2_lr[:,2], y_coordinates, marker='.', linewidth=1.0)\n",
    "plot1.set_ylim(0.0,1.0)\n",
    "plot1.set_title(\"Direct response, $k=2\\pi$\")\n",
    "\n",
    "plot2.plot(kernels2_lr[:,1], y_coordinates, marker='', color='green', linewidth=2)\n",
    "plot2.plot(kernels2_lr[:,5], y_coordinates, marker='', color='gray', linewidth=2)\n",
    "plot2.plot(kernels2[:,1], y_coordinates, marker='.', color='green', linewidth=1)\n",
    "plot2.plot(kernels2[:,5], y_coordinates, marker='.', color='gray', linewidth=1)\n",
    "plot2.set_ylim(0.0,1.0)\n",
    "plot2.set_title(\"Indirect (mode-coupled)\")\n"
   ]
  },
  {
   "cell_type": "code",
   "execution_count": 16,
   "metadata": {
    "collapsed": false,
    "scrolled": true
   },
   "outputs": [
    {
     "data": {
      "text/plain": [
       "Text(0.5,1,'Indirect (mode-coupled)')"
      ]
     },
     "execution_count": 16,
     "metadata": {},
     "output_type": "execute_result"
    },
    {
     "data": {
      "image/png": "[encoded data removed]",
      "text/plain": [
       "<Figure size 576x288 with 2 Axes>"
      ]
     },
     "metadata": {},
     "output_type": "display_data"
    }
   ],
   "source": [
    "\n",
    "fig, (plot1, plot2) = plt.subplots(1,2)\n",
    "fig.set_size_inches(8,4)\n",
    "\n",
    "plot1.plot(kernels5[:,5], y_coordinates, marker='', linewidth=2.0)\n",
    "plot1.plot(kernels5_lr[:,5], y_coordinates, marker='.', linewidth=2.0)\n",
    "plot1.set_ylim(0.0,1.0)\n",
    "plot1.set_title(\"Direct response, $k=5\\pi$\")\n",
    "\n",
    "plot2.plot(kernels5_lr[:,1], y_coordinates, marker='.', color='green', linewidth=1)\n",
    "plot2.plot(kernels5_lr[:,3], y_coordinates, marker='.', color='gray', linewidth=1)\n",
    "plot2.plot(kernels5[:,1], y_coordinates, marker='', color='green', linewidth=1)\n",
    "plot2.plot(kernels5[:,3], y_coordinates, marker='', color='gray', linewidth=1)\n",
    "plot2.set_ylim(0.0,1.0)\n",
    "plot2.set_title(\"Indirect (mode-coupled)\")\n"
   ]
  },
  {
   "cell_type": "markdown",
   "metadata": {},
   "source": [
    "# Compare with analytic solutions for laterally varying viscosity"
   ]
  },
  {
   "cell_type": "code",
   "execution_count": 17,
   "metadata": {
    "collapsed": true
   },
   "outputs": [],
   "source": [
    "# First the harmonic force function from SolA\n",
    "\n",
    "solA = fn.analytic.SolCx(viscosityA=1.0, viscosityB=100.0, xc=0.4, nx=1)\n",
    "stokesEqn.fn_viscosity = solA.fn_viscosity\n",
    "stokesEqn.fn_bodyforce = solA.fn_bodyforce\n",
    "stresstensorFn =  2.0 * stokesEqn.fn_viscosity*fn.tensor.symmetric( velocityField.fn_gradient ) \n",
    "anal_stresstensorFn =  fn.tensor.deviatoric(solA.fn_stress) \n",
    "\n",
    "verticalStressFn = stresstensorFn[1] - pressureField\n",
    "anal_verticalStressFn = anal_stresstensorFn[1] - solA.fn_pressure"
   ]
  },
  {
   "cell_type": "code",
   "execution_count": 18,
   "metadata": {
    "collapsed": false
   },
   "outputs": [
    {
     "name": "stdout",
     "output_type": "stream",
     "text": [
      "0.0\n"
     ]
    }
   ],
   "source": [
    "# Check it ... \n",
    "\n",
    "solver.options.A11.ksp_rtol=1e-7\n",
    "solver.options.scr.ksp_rtol=1e-6\n",
    "\n",
    "solver.solve()\n",
    "vscale = velocityField.evaluate(Q1Mesh).max()\n",
    "print(vscale)"
   ]
  },
  {
   "cell_type": "code",
   "execution_count": null,
   "metadata": {
    "collapsed": false
   },
   "outputs": [],
   "source": [
    "figSolAVisc = glucifer.Figure( figsize=(1600,800) )\n",
    "figSolAVisc.append( glucifer.objects.Surface(Q1Mesh, stokesEqn.fn_viscosity, colours=[\"red\", \"yellow\", \"blue\"], \n",
    "                                             colourBar=True, logScale=False, opacity=0.3) )\n",
    "\n",
    "figSolAVisc.append( glucifer.objects.VectorArrows(Q1Mesh, velocityField, \n",
    "                                                  arrowHead=0.1, scaling=0.01/vscale,\n",
    "                                                  resolution=[25,25,1]) )\n",
    "figSolAVisc.show()\n",
    "\n",
    "print(vscale)"
   ]
  },
  {
   "cell_type": "code",
   "execution_count": null,
   "metadata": {
    "collapsed": false
   },
   "outputs": [],
   "source": [
    "## Compute (total) stress, and thus topography and see how that looks in real / fourier domain\n",
    "## A cosine is added to demonstrate the performance of layer fft in an ideal case \n",
    "\n",
    "surface_topography = -verticalStressFn.evaluate(velocityMesh.specialSets[\"MaxJ_VertexSet\"]).T[0]\n",
    "anal_surface_topography = -anal_verticalStressFn.evaluate(velocityMesh.specialSets[\"MaxJ_VertexSet\"]).T[0]\n",
    "\n",
    "fig, (plot1,plot2) = plt.subplots(2,1)\n",
    "fig.set_alpha=0.5\n",
    "fig.set_size_inches(18,8)\n",
    "\n",
    "plot1.plot(x_coordinates, surface_topography)\n",
    "plot1.plot(x_coordinates, anal_surface_topography)\n",
    "plot1.plot(x_coordinates, np.cos(x_coordinates.T[0]*math.pi) * surface_topography.max(), linestyle=\":\")\n",
    "\n",
    "surface_topography_fft = layer_fft(surface_topography)\n",
    "anal_surface_topography_fft = layer_fft(anal_surface_topography)\n",
    "test_surface_topography_fft = layer_fft(np.cos(x_coordinates.T[0]*math.pi) * surface_topography.max())\n",
    "\n",
    "#plot2.bar(range(0,len(surface_topography_fft)), surface_topography_fft*100, color=\"red\", alpha=0.3, width=0.8)\n",
    "plot2.bar(range(0,len(surface_topography_fft)), surface_topography_fft, color=\"green\", alpha=0.3, width=0.4)\n",
    "plot2.bar(range(0,len(surface_topography_fft)), anal_surface_topography_fft)\n",
    "plot2.bar(range(0,len(surface_topography_fft)), 1.0e8*test_surface_topography_fft, color=\"red\", width=0.1)\n",
    "\n",
    "\n",
    "plot2.set_xlim(0,20)\n",
    "plot2.set_ylim(-0.01,1.0)\n",
    "pass\n"
   ]
  },
  {
   "cell_type": "code",
   "execution_count": 1,
   "metadata": {
    "collapsed": false,
    "scrolled": true
   },
   "outputs": [
    {
     "ename": "NameError",
     "evalue": "name 'solver' is not defined",
     "output_type": "error",
     "traceback": [
      "\u001b[0;31m---------------------------------------------------------------------------\u001b[0m",
      "\u001b[0;31mNameError\u001b[0m                                 Traceback (most recent call last)",
      "\u001b[0;32m<ipython-input-1-97ca163faf71>\u001b[0m in \u001b[0;36m<module>\u001b[0;34m()\u001b[0m\n\u001b[0;32m----> 1\u001b[0;31m \u001b[0msolver\u001b[0m\u001b[0;34m.\u001b[0m\u001b[0moptions\u001b[0m\u001b[0;34m.\u001b[0m\u001b[0mA11\u001b[0m\u001b[0;34m.\u001b[0m\u001b[0mksp_rtol\u001b[0m\u001b[0;34m=\u001b[0m\u001b[0;36m1e-7\u001b[0m\u001b[0;34m\u001b[0m\u001b[0m\n\u001b[0m\u001b[1;32m      2\u001b[0m \u001b[0msolver\u001b[0m\u001b[0;34m.\u001b[0m\u001b[0moptions\u001b[0m\u001b[0;34m.\u001b[0m\u001b[0mscr\u001b[0m\u001b[0;34m.\u001b[0m\u001b[0mksp_rtol\u001b[0m\u001b[0;34m=\u001b[0m\u001b[0;36m1e-6\u001b[0m\u001b[0;34m\u001b[0m\u001b[0m\n\u001b[1;32m      3\u001b[0m \u001b[0mstokesEqn\u001b[0m\u001b[0;34m.\u001b[0m\u001b[0mfn_bodyforce\u001b[0m \u001b[0;34m=\u001b[0m \u001b[0mforceFn\u001b[0m\u001b[0;34m\u001b[0m\u001b[0m\n\u001b[1;32m      4\u001b[0m \u001b[0;34m\u001b[0m\u001b[0m\n\u001b[1;32m      5\u001b[0m \u001b[0mkernels1a\u001b[0m \u001b[0;34m=\u001b[0m \u001b[0mall_wavenumber_topo_kernel\u001b[0m\u001b[0;34m(\u001b[0m\u001b[0;36m1\u001b[0m\u001b[0;34m)\u001b[0m\u001b[0;34m\u001b[0m\u001b[0m\n",
      "\u001b[0;31mNameError\u001b[0m: name 'solver' is not defined"
     ]
    }
   ],
   "source": [
    "solver.options.A11.ksp_rtol=1e-7\n",
    "solver.options.scr.ksp_rtol=1e-6\n",
    "stokesEqn.fn_bodyforce = forceFn\n",
    "\n",
    "kernels1a = all_wavenumber_topo_kernel(1)\n",
    "kernels5a = all_wavenumber_topo_kernel(5)"
   ]
  },
  {
   "cell_type": "code",
   "execution_count": null,
   "metadata": {
    "collapsed": false
   },
   "outputs": [],
   "source": [
    "\n",
    "k_array = kernels5a\n",
    "kd = 5\n",
    "ki_list = [1, 2, 3, 4, 5, 6, 7, 8, 9, 10]\n",
    "try:\n",
    "    ki_list.remove(kd)\n",
    "except:\n",
    "    pass\n",
    "\n",
    "fig, (plot1, plot2) = plt.subplots(1,2)\n",
    "fig.set_alpha=0.5\n",
    "fig.set_size_inches(8,4)\n",
    "\n",
    "plot1.plot(k_array[:,kd], y_coordinates, marker='', linewidth=2.0)\n",
    "plot1.set_ylim(0.0,1.0)\n",
    "plot1.set_title(\"Direct response at $k={:d}\\pi$\".format(kd))\n",
    "\n",
    "for k in ki_list:\n",
    "    plot2.plot(k_array[:,k], y_coordinates, marker='', linewidth=1)\n",
    "    \n",
    "plot2.set_ylim(0.0,1.0)\n",
    "plot2.set_title(\"Indirect (mode-coupled)\")"
   ]
  },
  {
   "cell_type": "code",
   "execution_count": null,
   "metadata": {
    "collapsed": true
   },
   "outputs": [],
   "source": []
  },
  {
   "cell_type": "code",
   "execution_count": null,
   "metadata": {
    "collapsed": true
   },
   "outputs": [],
   "source": []
  }
 ],
 "metadata": {
  "kernelspec": {
   "display_name": "Python 2",
   "language": "python",
   "name": "python2"
  },
  "language_info": {
   "codemirror_mode": {
    "name": "ipython",
    "version": 2
   },
   "file_extension": ".py",
   "mimetype": "text/x-python",
   "name": "python",
   "nbconvert_exporter": "python",
   "pygments_lexer": "ipython2",
   "version": "2.7.14"
  }
 },
 "nbformat": 4,
 "nbformat_minor": 1
}
